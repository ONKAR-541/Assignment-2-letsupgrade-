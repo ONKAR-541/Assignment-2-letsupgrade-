{
  "nbformat": 4,
  "nbformat_minor": 0,
  "metadata": {
    "colab": {
      "name": "Assignment 1 : Day 3.ipynb",
      "provenance": [],
      "collapsed_sections": [],
      "authorship_tag": "ABX9TyMgtgMYlyEng7YfdGzvOzDD",
      "include_colab_link": true
    },
    "kernelspec": {
      "name": "python3",
      "display_name": "Python 3"
    }
  },
  "cells": [
    {
      "cell_type": "markdown",
      "metadata": {
        "id": "view-in-github",
        "colab_type": "text"
      },
      "source": [
        "<a href=\"https://colab.research.google.com/github/ONKAR-541/Assignment-2-letsupgrade-/blob/main/Assignment_1_Day_3.ipynb\" target=\"_parent\"><img src=\"https://colab.research.google.com/assets/colab-badge.svg\" alt=\"Open In Colab\"/></a>"
      ]
    },
    {
      "cell_type": "code",
      "metadata": {
        "id": "70KUFqNr5HMl"
      },
      "source": [
        "#Assignment 1 : Day 3"
      ],
      "execution_count": 1,
      "outputs": []
    },
    {
      "cell_type": "code",
      "metadata": {
        "colab": {
          "base_uri": "https://localhost:8080/"
        },
        "id": "Fch_HMzs5OkO",
        "outputId": "c3079bb3-8881-4d8d-9732-3bc0e6b5eb4a"
      },
      "source": [
        "plane=1000\r\n",
        "if plane < 1000 :\r\n",
        "  print(\"land the plane\")\r\n",
        "elif plane > 1000 and plane < 5000 :\r\n",
        "  print(\"come down to 1000\")\r\n",
        "elif plane < 5000 :\r\n",
        "  print(\"go around and try later\")\r\n",
        "\r\n"
      ],
      "execution_count": 15,
      "outputs": [
        {
          "output_type": "stream",
          "text": [
            "go around and try later\n"
          ],
          "name": "stdout"
        }
      ]
    }
  ]
}